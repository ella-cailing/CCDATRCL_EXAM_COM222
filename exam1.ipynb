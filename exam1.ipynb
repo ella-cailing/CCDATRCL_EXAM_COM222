{
  "cells": [
    {
      "cell_type": "markdown",
      "metadata": {
        "id": "yaz2B0KGFehP"
      },
      "source": [
        "# Midterm Exam 💛💙"
      ]
    },
    {
      "cell_type": "markdown",
      "metadata": {
        "id": "_DmK1ONEFehQ"
      },
      "source": [
        "**Instructions** ❗️❗️\n",
        "\n",
        "❌ Do not remove or modify the notebook **sections**, **subsections**, **exam questions** or **any text** in this python notebook\n",
        "\n",
        "✔️ Put your answer in the designated cells below each question"
      ]
    },
    {
      "cell_type": "markdown",
      "metadata": {
        "id": "TMCAXKWCFehR"
      },
      "source": [
        "## Search"
      ]
    },
    {
      "cell_type": "code",
      "execution_count": null,
      "metadata": {
        "colab": {
          "background_save": true
        },
        "id": "Fy8nEBRRFehR"
      },
      "outputs": [],
      "source": [
        "def linearSearch(my_list, number):\n",
        "\n",
        "    index = 0\n",
        "\n",
        "    for i in my_list:\n",
        "\n",
        "        if my_list[index] == number:\n",
        "            return index\n",
        "\n",
        "        index = index + 1\n",
        "\n",
        "    return -1"
      ]
    },
    {
      "cell_type": "markdown",
      "metadata": {
        "id": "AjAevpueFehS"
      },
      "source": [
        "1. Using **linear search**, write a `findLargestIncrease()` function to find the largest increase in value between two adjacent numbers in your student number `(10 points)`\n",
        "\n",
        "    **Example:**\n",
        "\n",
        "    student_number = [2,0,2,2,6,2,5,1,9,3]\n",
        "\n",
        "    **Expected Output:**\n",
        "\n",
        "    findLargestIncrease(student_number)\n",
        "\n",
        "    Output: Between 1 and 9\n",
        "\n",
        "    **Explanation:**\n",
        "\n",
        "    From this student_number, the largest increase happened from number 1 to number 9"
      ]
    },
    {
      "cell_type": "code",
      "execution_count": null,
      "metadata": {
        "colab": {
          "base_uri": "https://localhost:8080/"
        },
        "id": "JE8nEfyJFehS",
        "outputId": "e17a7854-5bc0-4599-fc16-4a1a456b05c5"
      },
      "outputs": [
        {
          "name": "stdout",
          "output_type": "stream",
          "text": [
            "Output: Between 2 and 8\n"
          ]
        }
      ],
      "source": [
        "def findLargestIncrease(student_number):\n",
        "    largest_increase = 0\n",
        "    start_index = 0\n",
        "    end_index = 0\n",
        "\n",
        "    for i in range(len(student_number) - 1):\n",
        "        increase = student_number[i + 1] - student_number[i]\n",
        "        if increase > largest_increase:\n",
        "            largest_increase = increase\n",
        "            start_index = i\n",
        "            end_index = i + 1\n",
        "\n",
        "    if largest_increase > 0:\n",
        "        return f\"Between {student_number[start_index]} and {student_number[end_index]}\"\n",
        "    else:\n",
        "        return \"No increase found\"\n",
        "\n",
        "student_number = [2, 0, 2, 2, 1, 0, 5, 2, 8, 8]\n",
        "result = findLargestIncrease(student_number)\n",
        "print(\"Output:\", result)"
      ]
    },
    {
      "cell_type": "markdown",
      "metadata": {
        "id": "nMyr1fNyFehS"
      },
      "source": [
        "2. Using **linear search**, write a `findLargestDecrease()` function to find the largest decrease in value between two adjacent numbers in your student number `(10 points)`\n",
        "\n",
        "    **Example:**\n",
        "\n",
        "    student_number = [2,0,2,2,6,2,5,1,9,3]\n",
        "\n",
        "    **Expected Output:**\n",
        "\n",
        "    findLargestDecrease(student_number)\n",
        "\n",
        "    Output: Between 9 and 3\n",
        "\n",
        "    **Explanation:**\n",
        "\n",
        "    From this student_number, the largest decrease happened from number 9 to number 3"
      ]
    },
    {
      "cell_type": "code",
      "execution_count": null,
      "metadata": {
        "colab": {
          "base_uri": "https://localhost:8080/"
        },
        "id": "bfMfQVbVFehS",
        "outputId": "95a4a726-75e9-4138-c78b-4d46ae77fc2c"
      },
      "outputs": [
        {
          "name": "stdout",
          "output_type": "stream",
          "text": [
            "Output: Between 5 and 2\n"
          ]
        }
      ],
      "source": [
        "def findLargestDecrease(student_number):\n",
        "    largest_decrease = 0\n",
        "    start_index = 0\n",
        "    end_index = 0\n",
        "\n",
        "    for i in range(len(student_number) - 1):\n",
        "        decrease = student_number[i] - student_number[i + 1]\n",
        "        if decrease > largest_decrease:\n",
        "            largest_decrease = decrease\n",
        "            start_index = i\n",
        "            end_index = i + 1\n",
        "\n",
        "    if largest_decrease > 0:\n",
        "        return f\"Between {student_number[start_index]} and {student_number[end_index]}\"\n",
        "    else:\n",
        "        return \"No decrease found\"\n",
        "\n",
        "student_number = [2, 0, 2, 2, 1, 0, 5, 2, 8, 8]\n",
        "result = findLargestDecrease(student_number)\n",
        "print(\"Output:\", result)"
      ]
    },
    {
      "cell_type": "markdown",
      "metadata": {
        "id": "NtKSQn9QFehS"
      },
      "source": [
        "## Linked List"
      ]
    },
    {
      "cell_type": "code",
      "execution_count": 26,
      "metadata": {
        "id": "0HP5zyJcFehS"
      },
      "outputs": [],
      "source": [
        "class Node:\n",
        "\n",
        "    def __init__(self, data):\n",
        "        self.data = data\n",
        "        self.next = None  # null"
      ]
    },
    {
      "cell_type": "code",
      "execution_count": 25,
      "metadata": {
        "id": "A-8Uefe7FehS"
      },
      "outputs": [],
      "source": [
        "class LinkedList:\n",
        "\n",
        "    def __init__(self):\n",
        "        self.head = None\n",
        "\n",
        "    def traverse(self, node):\n",
        "        while node:\n",
        "            print(node.data, end=\" -> \")\n",
        "            node = node.next"
      ]
    },
    {
      "cell_type": "markdown",
      "metadata": {
        "id": "uPgIJJuSFehT"
      },
      "source": [
        "**Instructions** ❗️❗️\n",
        "\n",
        "Use the pre-defined linked list class/functions to create a linked list"
      ]
    },
    {
      "cell_type": "markdown",
      "metadata": {
        "id": "WIwpW7Q2FehT"
      },
      "source": [
        "1. Create a Singly linked list named **num_list** and print all of its elements. `(5 points)`\n",
        "\n",
        "- **num_list** should contain all digits of your student number.\n",
        "\n",
        "    **Expected Output:**\n",
        "\n",
        "    print(num_list)\n",
        "\n",
        "    [2, 0, 2, 2, 1, 2, 3, 4, 5, 6]"
      ]
    },
    {
      "cell_type": "code",
      "execution_count": null,
      "metadata": {
        "colab": {
          "base_uri": "https://localhost:8080/"
        },
        "id": "Lihv0JPiFehT",
        "outputId": "737dc11b-6e26-4a7a-c66c-c79d43b243b9"
      },
      "outputs": [
        {
          "name": "stdout",
          "output_type": "stream",
          "text": [
            "2 -> 0 -> 2 -> 2 -> 1 -> 0 -> 5 -> 2 -> 8 -> 8 -> "
          ]
        }
      ],
      "source": [
        "num_list = LinkedList()\n",
        "\n",
        "num_list.head = Node(2)\n",
        "node_b = Node(0)\n",
        "node_c = Node(2)\n",
        "node_d = Node(2)\n",
        "node_e = Node(1)\n",
        "node_f = Node(0)\n",
        "node_g = Node(5)\n",
        "node_h = Node(2)\n",
        "node_i = Node(8)\n",
        "node_j = Node(8)\n",
        "\n",
        "num_list.head.next = node_b\n",
        "node_b.next = node_c\n",
        "node_c.next = node_d\n",
        "node_d.next = node_e\n",
        "node_e.next = node_f\n",
        "node_f.next = node_g\n",
        "node_g.next = node_h\n",
        "node_h.next = node_i\n",
        "node_i.next = node_j\n",
        "node_j.next = None\n",
        "\n",
        "num_list.traverse(num_list.head)"
      ]
    },
    {
      "cell_type": "markdown",
      "metadata": {
        "id": "dqA2UYrYFehT"
      },
      "source": [
        "2. Write a `hasPrime()` function to test whether a prime number is in the last six digits of **num_list**. `(5 points)`\n",
        "\n",
        "- If a prime number is in the last six digits of **num_list**, the method should return **true**\n",
        "\n",
        "- If a prime number is not in the last six digits of **num_list**, the method should return **false**\n",
        "\n",
        "    **Expected Output:**\n",
        "\n",
        "    hasPrime(num_list)\n",
        "\n",
        "    True"
      ]
    },
    {
      "cell_type": "code",
      "execution_count": 11,
      "metadata": {
        "id": "GYwsQNz5FehT",
        "colab": {
          "base_uri": "https://localhost:8080/"
        },
        "outputId": "05e38f40-885e-4936-ae8f-d4d5ba989528"
      },
      "outputs": [
        {
          "output_type": "stream",
          "name": "stdout",
          "text": [
            "True\n"
          ]
        }
      ],
      "source": [
        "num_list = LinkedList()\n",
        "\n",
        "num_list.head = Node(2)\n",
        "node_b = Node(0)\n",
        "node_c = Node(2)\n",
        "node_d = Node(2)\n",
        "node_e = Node(1)\n",
        "node_f = Node(0)\n",
        "node_g = Node(5)\n",
        "node_h = Node(2)\n",
        "node_i = Node(8)\n",
        "node_j = Node(8)\n",
        "\n",
        "num_list.head.next = node_b\n",
        "node_b.next = node_c\n",
        "node_c.next = node_d\n",
        "node_d.next = node_e\n",
        "node_e.next = node_f\n",
        "node_f.next = node_g\n",
        "node_g.next = node_h\n",
        "node_h.next = node_i\n",
        "node_i.next = node_j\n",
        "node_j.next = None\n",
        "\n",
        "def hasPrime(self):\n",
        "        current = self.head\n",
        "\n",
        "        while current:\n",
        "            if is_prime(current.data):\n",
        "                return True\n",
        "            current = current.next\n",
        "\n",
        "        return False\n",
        "\n",
        "def is_prime(number):\n",
        "    if number <= 1:\n",
        "        return False\n",
        "    if number <= 3:\n",
        "        return True\n",
        "\n",
        "    if number % 2 == 0 or number % 3 == 0:\n",
        "        return False\n",
        "\n",
        "    i = 5\n",
        "    while i * i <= number:\n",
        "        if number % i == 0 or number % (i + 2) == 0:\n",
        "            return False\n",
        "        i += 6\n",
        "\n",
        "    return True\n",
        "\n",
        "result = hasPrime(num_list)\n",
        "print(result)"
      ]
    },
    {
      "cell_type": "markdown",
      "metadata": {
        "id": "5Qb0BOiwFehT"
      },
      "source": [
        "3. Write a `removeZeroes()` function to remove all occurrences of zeroes in **num_list**. `(5 points)`\n",
        "\n",
        "- If a zero is in **num_list**, return **num_list**\n",
        "\n",
        "- If there are no zeroes in **num_list**, return **\"no zeros found\"**\n",
        "\n",
        "    **Expected Output:**\n",
        "\n",
        "    removeZeroes(num_list)\n",
        "\n",
        "    [2, 2, 1, 2, 3, 4, 5, 6]"
      ]
    },
    {
      "cell_type": "code",
      "execution_count": 21,
      "metadata": {
        "colab": {
          "base_uri": "https://localhost:8080/"
        },
        "id": "k1vAHUYuFehT",
        "outputId": "2bdad79f-4ec2-4970-d05c-71a20f572061"
      },
      "outputs": [
        {
          "output_type": "stream",
          "name": "stdout",
          "text": [
            "\n",
            "2 -> 2 -> 2 -> 1 -> 5 -> 2 -> 8 -> 8 -> "
          ]
        }
      ],
      "source": [
        "num_list = LinkedList()\n",
        "\n",
        "num_list.head = Node(2)\n",
        "node_b = Node(0)\n",
        "node_c = Node(2)\n",
        "node_d = Node(2)\n",
        "node_e = Node(1)\n",
        "node_f = Node(0)\n",
        "node_g = Node(5)\n",
        "node_h = Node(2)\n",
        "node_i = Node(8)\n",
        "node_j = Node(8)\n",
        "\n",
        "num_list.head.next = node_b\n",
        "node_b.next = node_c\n",
        "node_c.next = node_d\n",
        "node_d.next = node_e\n",
        "node_e.next = node_f\n",
        "node_f.next = node_g\n",
        "node_g.next = node_h\n",
        "node_h.next = node_i\n",
        "node_i.next = node_j\n",
        "node_j.next = None\n",
        "\n",
        "def removeZeroes(self):\n",
        "        current = self.head\n",
        "        prev = None\n",
        "        zeros_removed = False\n",
        "\n",
        "        while current:\n",
        "            if current.data == 0:\n",
        "                if prev:\n",
        "                    prev.next = current.next\n",
        "                else:\n",
        "                    self.head = current.next\n",
        "                zeros_removed = True\n",
        "            else:\n",
        "                prev = current\n",
        "            current = current.next\n",
        "\n",
        "        if not zeros_removed:\n",
        "            print(\"no zeros found\")\n",
        "\n",
        "removeZeroes(num_list)\n",
        "print()\n",
        "num_list.traverse(num_list.head)"
      ]
    },
    {
      "cell_type": "markdown",
      "metadata": {
        "id": "SKAlpglNFehT"
      },
      "source": [
        "4. Insert a dash symbol between the 4th and 5th digit in **num_list**. `(5 points)`\n",
        "\n",
        "    **Expected Output:**\n",
        "\n",
        "    print(num_list)\n",
        "\n",
        "    [2, 0, 2, 2, \"-\", 1, 2, 3, 4, 5, 6]"
      ]
    },
    {
      "cell_type": "code",
      "execution_count": 44,
      "metadata": {
        "colab": {
          "base_uri": "https://localhost:8080/"
        },
        "id": "vF7fimZ-FehT",
        "outputId": "04953526-e12b-4861-b24b-f42ff2ab17ab"
      },
      "outputs": [
        {
          "output_type": "stream",
          "name": "stdout",
          "text": [
            "2 -> 0 -> 2 -> 2 -> - -> 1 -> 0 -> 5 -> 2 -> 8 -> 8 -> \n"
          ]
        }
      ],
      "source": [
        "def insert_dash(num_list):\n",
        "\n",
        "    current = num_list.head\n",
        "    count = 1\n",
        "    while current:\n",
        "        if count == 4:\n",
        "            new_node = Node(\"-\")\n",
        "            new_node.next = current.next\n",
        "            current.next = new_node\n",
        "            count += 1\n",
        "        current = current.next\n",
        "        count += 1\n",
        "\n",
        "    num_list.traverse()\n",
        "    print()\n",
        "\n",
        "num_list = LinkedList()\n",
        "\n",
        "num_list.head = Node(2)\n",
        "node_b = Node(0)\n",
        "node_c = Node(2)\n",
        "node_d = Node(2)\n",
        "node_e = Node(1)\n",
        "node_f = Node(0)\n",
        "node_g = Node(5)\n",
        "node_h = Node(2)\n",
        "node_i = Node(8)\n",
        "node_j = Node(8)\n",
        "\n",
        "num_list.head.next = node_b\n",
        "node_b.next = node_c\n",
        "node_c.next = node_d\n",
        "node_d.next = node_e\n",
        "node_e.next = node_f\n",
        "node_f.next = node_g\n",
        "node_g.next = node_h\n",
        "node_h.next = node_i\n",
        "node_i.next = node_j\n",
        "node_j.next = None\n",
        "\n",
        "insert_dash(num_list)"
      ]
    },
    {
      "cell_type": "markdown",
      "metadata": {
        "id": "KkC-LgdxFehT"
      },
      "source": [
        "## Stack"
      ]
    },
    {
      "cell_type": "code",
      "execution_count": 45,
      "metadata": {
        "id": "UYTqB1u_FehU"
      },
      "outputs": [],
      "source": [
        "# Creating a stack\n",
        "def create_stack():\n",
        "    stack = []\n",
        "    return stack\n",
        "\n",
        "\n",
        "def print_stack(stack):\n",
        "\n",
        "    if (check_empty(stack)):\n",
        "        return \"stack is empty\"\n",
        "\n",
        "    # Create a copy of the stack and reverse the elements\n",
        "    tempStack = stack.copy()\n",
        "    tempStack.reverse()\n",
        "\n",
        "    # Print all elements using a loop\n",
        "    for i in tempStack:\n",
        "        print(i)\n",
        "\n",
        "    # Delete the copy to free up memory\n",
        "    del tempStack\n",
        "\n",
        "# Creating an empty stack\n",
        "\n",
        "\n",
        "def check_empty(stack):\n",
        "    return len(stack) == 0\n",
        "\n",
        "\n",
        "# Adding items into the stack\n",
        "def push(stack, item):\n",
        "    stack.append(item)\n",
        "    print(\"pushed item: \" + item)\n",
        "\n",
        "\n",
        "# Removing an element from the stack\n",
        "def pop(stack):\n",
        "    if (check_empty(stack)):\n",
        "        return \"stack is empty\"\n",
        "\n",
        "    return stack.pop()\n",
        "\n",
        "\n",
        "def peek(stack):\n",
        "\n",
        "    # Use negative indexing to display the last element of the list\n",
        "    print(stack[-1])"
      ]
    },
    {
      "cell_type": "markdown",
      "metadata": {
        "id": "wLAQchs8FehU"
      },
      "source": [
        "**Instructions** ❗️❗️\n",
        "\n",
        "Use the pre-defined stack class/functions to create a stack"
      ]
    },
    {
      "cell_type": "markdown",
      "metadata": {
        "id": "37cg9BoCFehU"
      },
      "source": [
        "1. Create two (2) stacks named **name_stack** and **num_stack** `(5 points)`\n",
        "\n",
        "- **name_stack** should contain all letters of your first name.\n",
        "- **num_stack** should contain all digits of your student number.\n",
        "\n",
        "    **Expected Output:**\n",
        "\n",
        "    print(name_stack)\n",
        "\n",
        "    ['E', 'L', 'I', 'Z', 'E', 'R']\n",
        "\n",
        "    print(num_stack)\n",
        "\n",
        "    [2,0,2,2,1,2,3,4,5,6]"
      ]
    },
    {
      "cell_type": "code",
      "execution_count": 47,
      "metadata": {
        "colab": {
          "base_uri": "https://localhost:8080/"
        },
        "id": "HlUIUQzQFehU",
        "outputId": "7b54b4e3-d46f-4d0f-9d57-6ed843d03458"
      },
      "outputs": [
        {
          "output_type": "stream",
          "name": "stdout",
          "text": [
            "pushed item: M\n",
            "pushed item: I\n",
            "pushed item: C\n",
            "pushed item: H\n",
            "pushed item: A\n",
            "pushed item: E\n",
            "pushed item: L\n",
            "pushed item: A\n",
            "pushed item: 2\n",
            "pushed item: 0\n",
            "pushed item: 2\n",
            "pushed item: 2\n",
            "pushed item: 1\n",
            "pushed item: 0\n",
            "pushed item: 5\n",
            "pushed item: 2\n",
            "pushed item: 8\n",
            "pushed item: 8\n",
            "['M', 'I', 'C', 'H', 'A', 'E', 'L', 'A']\n",
            "['2', '0', '2', '2', '1', '0', '5', '2', '8', '8']\n"
          ]
        }
      ],
      "source": [
        "name_stack = create_stack()\n",
        "num_stack = create_stack()\n",
        "\n",
        "push(name_stack, 'M')\n",
        "push(name_stack, 'I')\n",
        "push(name_stack, 'C')\n",
        "push(name_stack, 'H')\n",
        "push(name_stack, 'A')\n",
        "push(name_stack, 'E')\n",
        "push(name_stack, 'L')\n",
        "push(name_stack, 'A')\n",
        "\n",
        "push(num_stack, '2')\n",
        "push(num_stack, '0')\n",
        "push(num_stack, '2')\n",
        "push(num_stack, '2')\n",
        "push(num_stack, '1')\n",
        "push(num_stack, '0')\n",
        "push(num_stack, '5')\n",
        "push(num_stack, '2')\n",
        "push(num_stack, '8')\n",
        "push(num_stack, '8')\n",
        "\n",
        "\n",
        "print(name_stack)\n",
        "print(num_stack)"
      ]
    },
    {
      "cell_type": "markdown",
      "metadata": {
        "id": "8cySe9LXFehU"
      },
      "source": [
        "2. Create a stack named **my_stack** that follows the following format: `(5 points)`\n",
        "\n",
        "- The first element should be the **5th digit in your student number**\n",
        "- The succeeding elements should be the letters of your **first name**\n",
        "- The last element should be the **last digit of your student number**\n",
        "\n",
        "    **Expected Output:**\n",
        "\n",
        "    my_stack = [1, E, L, I, Z, E, R, 6]"
      ]
    },
    {
      "cell_type": "code",
      "execution_count": 51,
      "metadata": {
        "colab": {
          "base_uri": "https://localhost:8080/"
        },
        "id": "bEnCoAhjFehU",
        "outputId": "8dd91ebc-827b-4f88-cb67-4fae17e6a61a"
      },
      "outputs": [
        {
          "output_type": "stream",
          "name": "stdout",
          "text": [
            "pushed item: 1\n",
            "pushed item: M\n",
            "pushed item: I\n",
            "pushed item: C\n",
            "pushed item: H\n",
            "pushed item: A\n",
            "pushed item: E\n",
            "pushed item: L\n",
            "pushed item: A\n",
            "pushed item: 8\n",
            "['1', 'M', 'I', 'C', 'H', 'A', 'E', 'L', 'A', '8']\n"
          ]
        }
      ],
      "source": [
        "student_number = '2022105288'\n",
        "first_name = 'MICHAELA'\n",
        "\n",
        "my_stack = create_stack()\n",
        "\n",
        "stack_digit = student_number[4]\n",
        "push(my_stack, stack_digit)\n",
        "\n",
        "for letter in first_name:\n",
        "    push(my_stack, letter)\n",
        "\n",
        "stack_digit = student_number[-1]\n",
        "push(my_stack, stack_digit)\n",
        "\n",
        "print(my_stack)"
      ]
    },
    {
      "cell_type": "markdown",
      "metadata": {
        "id": "8a8_KP5nFehU"
      },
      "source": [
        "3. Write a `verifyStack()` function that will take in `my_stack` and check if its format has been followed `(10 points)`\n",
        "\n",
        "- Return **True** if the format has been followed\n",
        "- Return **False** if the format was not followed\n",
        "- Verify the format by checking the contents of **my_stack** with **name_stack** and **num_stack**\n",
        "\n",
        "    **Expected Output:**\n",
        "\n",
        "    my_stack = [1, E, L, I, Z, E, R, 6]\n",
        "\n",
        "    verifyStack(my_stack)\n",
        "\n",
        "    True\n",
        "\n",
        "    my_stack = [1, S, L, I, Z, E, R, 7]\n",
        "\n",
        "    verifyStack(my_stack)\n",
        "\n",
        "    False"
      ]
    },
    {
      "cell_type": "code",
      "execution_count": null,
      "metadata": {
        "colab": {
          "base_uri": "https://localhost:8080/"
        },
        "id": "RdANSxD0FehU",
        "outputId": "95fa9f80-ccc7-4dcc-8555-5d99b385dda7"
      },
      "outputs": [
        {
          "name": "stdout",
          "output_type": "stream",
          "text": [
            "pushed item: 1\n",
            "pushed item: M\n",
            "pushed item: I\n",
            "pushed item: C\n",
            "pushed item: H\n",
            "pushed item: A\n",
            "pushed item: E\n",
            "pushed item: L\n",
            "pushed item: A\n",
            "pushed item: 8\n",
            "my_stack = ['1', 'M', 'I', 'C', 'H', 'A', 'E', 'L', 'A', '8']\n",
            "True\n",
            "my_stack = ['1', 'M', 'I', 'C', 'H', 'A', 'E', 'L', 'A', '7']\n",
            "False\n"
          ]
        }
      ],
      "source": [
        "my_stack = create_stack()\n",
        "\n",
        "name_stack = ['M', 'I', 'C', 'H', 'A', 'E', 'L', 'A']\n",
        "num_stack = ['2', '0', '2', '2', '1', '0', '5', '2', '8', '8']\n",
        "\n",
        "student_number = \"2022105288\"\n",
        "push(my_stack, student_number[4])\n",
        "\n",
        "name = \"MICHAELA\"\n",
        "for letter in name:\n",
        "    push(my_stack, letter)\n",
        "\n",
        "push(my_stack, student_number[-1])\n",
        "\n",
        "def verifyStack(my_stack):\n",
        "\n",
        "    if my_stack[0] == num_stack[4]:\n",
        "\n",
        "        my_stack[-1] = str(my_stack[-1])\n",
        "\n",
        "        if my_stack[1:-1] == name_stack:\n",
        "\n",
        "            if my_stack[-1] == num_stack[-1]:\n",
        "                return True\n",
        "\n",
        "    return False\n",
        "\n",
        "print(\"my_stack =\", my_stack)\n",
        "print(verifyStack(my_stack))\n",
        "\n",
        "my_stack = ['1', 'M', 'I', 'C', 'H', 'A', 'E', 'L', 'A', '7']\n",
        "print(\"my_stack =\", my_stack)\n",
        "print(verifyStack(my_stack))"
      ]
    },
    {
      "cell_type": "markdown",
      "metadata": {
        "id": "UC5C64B2FehU"
      },
      "source": [
        "## Queue"
      ]
    },
    {
      "cell_type": "code",
      "execution_count": 53,
      "metadata": {
        "id": "NJJ0j0LHFehU"
      },
      "outputs": [],
      "source": [
        "class Queue:\n",
        "    def __init__(self):\n",
        "        self.queue = []\n",
        "\n",
        "    # Add an element\n",
        "    def enqueue(self, item):\n",
        "        self.queue.append(item)\n",
        "\n",
        "    # Remove an element\n",
        "    def dequeue(self):\n",
        "        if len(self.queue) < 1:\n",
        "            return None\n",
        "        return self.queue.pop(0)\n",
        "\n",
        "    # Display  the queue\n",
        "    def display(self):\n",
        "        print(self.queue)\n",
        "\n",
        "    def size(self):\n",
        "        return len(self.queue)\n",
        "\n",
        "    def peek(self):\n",
        "        return self.queue[0]"
      ]
    },
    {
      "cell_type": "markdown",
      "metadata": {
        "id": "80OekpbeFehV"
      },
      "source": [
        "**Instructions** ❗️❗️\n",
        "\n",
        "Use the pre-defined queue class/functions to create a Queue"
      ]
    },
    {
      "cell_type": "markdown",
      "metadata": {
        "id": "_Hf0OP5cFehV"
      },
      "source": [
        "1. Create a simple queue named **num_queue** `(5 points)`\n",
        "\n",
        "- **num_queue** should contain all digits of your student number.\n",
        "\n",
        "    **Expected Output:**\n",
        "\n",
        "    print(num_queue)\n",
        "\n",
        "    [2,0,2,2,1,2,3,4,5,6]"
      ]
    },
    {
      "cell_type": "code",
      "execution_count": 55,
      "metadata": {
        "colab": {
          "base_uri": "https://localhost:8080/"
        },
        "id": "_mgmE4ArFehV",
        "outputId": "93aec253-6c36-491c-ac92-41023de96d83"
      },
      "outputs": [
        {
          "output_type": "stream",
          "name": "stdout",
          "text": [
            "[2, 0, 2, 2, 1, 0, 5, 2, 8, 8]\n"
          ]
        }
      ],
      "source": [
        "num_queue = Queue()\n",
        "\n",
        "num_queue.enqueue(2)\n",
        "num_queue.enqueue(0)\n",
        "num_queue.enqueue(2)\n",
        "num_queue.enqueue(2)\n",
        "num_queue.enqueue(1)\n",
        "num_queue.enqueue(0)\n",
        "num_queue.enqueue(5)\n",
        "num_queue.enqueue(2)\n",
        "num_queue.enqueue(8)\n",
        "num_queue.enqueue(8)\n",
        "\n",
        "num_queue.display()"
      ]
    },
    {
      "cell_type": "markdown",
      "metadata": {
        "id": "1pHG8t6DFehV"
      },
      "source": [
        "2. Write a `getMax()` or `getMin()` function for **num_queue** `(5 points)`\n",
        "\n",
        "- If your student number ends with an odd number, create a `getMax()` function that will return the largest number in **num_queue**\n",
        "- If your student number ends with an even number, create a `getMin()` function that will return the lowest number in **num_queue**\n",
        "\n",
        "    **Expected Output for getMax():**\n",
        "\n",
        "    getMax(num_queue)\n",
        "\n",
        "    6\n",
        "\n",
        "    **Expected Output for getMin():**\n",
        "\n",
        "    getMin(num_queue)\n",
        "\n",
        "    0"
      ]
    },
    {
      "cell_type": "code",
      "execution_count": 61,
      "metadata": {
        "colab": {
          "base_uri": "https://localhost:8080/"
        },
        "id": "itj2U610FehV",
        "outputId": "481639fa-2e55-48a1-d4c8-06b77e2c5f2e"
      },
      "outputs": [
        {
          "output_type": "stream",
          "name": "stdout",
          "text": [
            "Min value in num_queue: 0\n"
          ]
        }
      ],
      "source": [
        "def getMin(num_queue):\n",
        "        if len(num_queue.queue) == 0:\n",
        "            return None\n",
        "\n",
        "        return min(num_queue.queue)\n",
        "\n",
        "num_queue = Queue()\n",
        "\n",
        "num_queue.enqueue(2)\n",
        "num_queue.enqueue(0)\n",
        "num_queue.enqueue(2)\n",
        "num_queue.enqueue(2)\n",
        "num_queue.enqueue(1)\n",
        "num_queue.enqueue(0)\n",
        "num_queue.enqueue(5)\n",
        "num_queue.enqueue(2)\n",
        "num_queue.enqueue(8)\n",
        "num_queue.enqueue(8)\n",
        "\n",
        "result = getMin(num_queue)\n",
        "print(\"Min value in num_queue:\", result)"
      ]
    },
    {
      "cell_type": "markdown",
      "metadata": {
        "id": "YkgmP6GwFehV"
      },
      "source": [
        "3. Write a `getOdd()` or `getEven()` function for  **num_queue** `(5 points)`\n",
        "\n",
        "- If your student number ends with an **odd number**, create a `getOdd()` function that will return all odd numbers in **num_queue**\n",
        "- If your student number ends with an **even number**, create a `getEven()` function that will return all even numbers in **num_queue**\n",
        "\n",
        "    **Expected Output for getOdd():**\n",
        "\n",
        "    getOdd(num_queue)\n",
        "\n",
        "    [1, 3, 5]\n",
        "\n",
        "    **Expected Output for getEven():**\n",
        "\n",
        "    getEven(num_queue)\n",
        "\n",
        "    [0, 2, 4, 6]"
      ]
    },
    {
      "cell_type": "code",
      "execution_count": 67,
      "metadata": {
        "colab": {
          "base_uri": "https://localhost:8080/"
        },
        "id": "2Bc7E1zNFehV",
        "outputId": "916fa4bf-49e8-403c-fc5a-c1f663efc9a2"
      },
      "outputs": [
        {
          "output_type": "stream",
          "name": "stdout",
          "text": [
            "Even numbers in num_queue: [2, 0, 2, 2, 0, 2, 8, 8]\n"
          ]
        }
      ],
      "source": [
        "def getEven(num_queue):\n",
        "        if len(num_queue.queue) == 0:\n",
        "            return []\n",
        "\n",
        "        return [x for x in num_queue.queue if x % 2 == 0]\n",
        "\n",
        "num_queue = Queue()\n",
        "\n",
        "num_queue.enqueue(2)\n",
        "num_queue.enqueue(0)\n",
        "num_queue.enqueue(2)\n",
        "num_queue.enqueue(2)\n",
        "num_queue.enqueue(1)\n",
        "num_queue.enqueue(0)\n",
        "num_queue.enqueue(5)\n",
        "num_queue.enqueue(2)\n",
        "num_queue.enqueue(8)\n",
        "num_queue.enqueue(8)\n",
        "\n",
        "even_numbers = getEven(num_queue)\n",
        "\n",
        "print(\"Even numbers in num_queue:\", even_numbers)"
      ]
    },
    {
      "cell_type": "markdown",
      "metadata": {
        "id": "kuzWF5g4FehV"
      },
      "source": [
        "4. Write a `removeDup()` function that will remove all duplicates in **num_queue** `(5 points)`\n",
        "\n",
        "    **Expected Output:**\n",
        "\n",
        "    removeDup(num_queue)\n",
        "\n",
        "    [2,0,1,3,4,5,6]"
      ]
    },
    {
      "cell_type": "code",
      "execution_count": 70,
      "metadata": {
        "colab": {
          "base_uri": "https://localhost:8080/"
        },
        "id": "I8LeQP8MFehY",
        "outputId": "a69b1a58-564b-4455-ccd3-dcd1430b43b4"
      },
      "outputs": [
        {
          "output_type": "stream",
          "name": "stdout",
          "text": [
            "Queue after removing duplicates in num_queue:\n",
            "[2, 0, 1, 5, 8]\n"
          ]
        }
      ],
      "source": [
        "def removeDup(num_queue):\n",
        "    element_count = {}\n",
        "    unique_elements = Queue()\n",
        "\n",
        "    while not num_queue.size() == 0:\n",
        "        current_element = num_queue.dequeue()\n",
        "\n",
        "        if current_element in element_count:\n",
        "            element_count[current_element] += 1\n",
        "        else:\n",
        "            element_count[current_element] = 1\n",
        "        if element_count[current_element] == 1:\n",
        "            unique_elements.enqueue(current_element)\n",
        "\n",
        "    while not unique_elements.size() == 0:\n",
        "        num_queue.enqueue(unique_elements.dequeue())\n",
        "\n",
        "removeDup(num_queue)\n",
        "\n",
        "print(\"Queue after removing duplicates in num_queue:\")\n",
        "num_queue.display()"
      ]
    },
    {
      "cell_type": "markdown",
      "metadata": {
        "id": "LVfZTh8YFehZ"
      },
      "source": [
        "## Sort"
      ]
    },
    {
      "cell_type": "markdown",
      "metadata": {
        "id": "bm9lonfzFehZ"
      },
      "source": [
        "**Instructions** ❗️❗️\n",
        "\n",
        "Use the any sorting algoritms"
      ]
    },
    {
      "cell_type": "markdown",
      "metadata": {
        "id": "EJTlxhEdFehZ"
      },
      "source": [
        "1. Using any sorting algorithm, sort the **last 6 digits** of your student number in ascending order `(5 points)`\n",
        "\n",
        "    **Example:**\n",
        "\n",
        "    student_number = [2,0,2,2,6,2,5,1,3,4]\n",
        "\n",
        "    **Expected Output:**\n",
        "\n",
        "    print(student_number)\n",
        "\n",
        "    [2,0,2,2,1,2,3,4,5,6]\n"
      ]
    },
    {
      "cell_type": "code",
      "execution_count": 72,
      "metadata": {
        "id": "MkZKfveOFehZ",
        "colab": {
          "base_uri": "https://localhost:8080/"
        },
        "outputId": "1af663eb-59c4-4c30-f822-e351f40bdc13"
      },
      "outputs": [
        {
          "output_type": "stream",
          "name": "stdout",
          "text": [
            "[2, 0, 2, 2, 0, 1, 2, 5, 8, 8]\n"
          ]
        }
      ],
      "source": [
        "student_number = [2, 0, 2, 2, 1, 0, 5, 2, 8, 8]\n",
        "\n",
        "last_six_digits = student_number[-6:]\n",
        "\n",
        "def insertion_sort(arr):\n",
        "    for i in range(1, len(arr)):\n",
        "        key = arr[i]\n",
        "        j = i - 1\n",
        "        while j >= 0 and key < arr[j]:\n",
        "            arr[j + 1] = arr[j]\n",
        "            j -= 1\n",
        "        arr[j + 1] = key\n",
        "\n",
        "insertion_sort(last_six_digits)\n",
        "\n",
        "student_number[-6:] = last_six_digits\n",
        "\n",
        "print(student_number)"
      ]
    },
    {
      "cell_type": "markdown",
      "metadata": {
        "id": "sC2JZRZMFehZ"
      },
      "source": [
        "2. Using your student_number, separately sort the even numbers in **increasing order** and the odd numbers in **decreasing order** `(15 points)`\n",
        "\n",
        "    **Example:**\n",
        "\n",
        "    student_number = [2,0,2,2,1,2,3,4,5,6]\n",
        "\n",
        "    **Expected Output:**\n",
        "\n",
        "    print(student_number)\n",
        "\n",
        "    [0,2,2,2,2,4,6,5,3,1]"
      ]
    },
    {
      "cell_type": "code",
      "execution_count": 77,
      "metadata": {
        "colab": {
          "base_uri": "https://localhost:8080/"
        },
        "id": "hWOh_ohcFehZ",
        "outputId": "eca57e1e-79b4-4881-cb31-312fbdf57006"
      },
      "outputs": [
        {
          "output_type": "stream",
          "name": "stdout",
          "text": [
            "[0, 0, 2, 2, 2, 2, 8, 8, 5, 1]\n"
          ]
        }
      ],
      "source": [
        "student_number = [2, 0, 2, 2, 1, 0, 5, 2, 8, 8]\n",
        "\n",
        "even_numbers = [x for x in student_number if x % 2 == 0]\n",
        "odd_numbers = [x for x in student_number if x % 2 != 0]\n",
        "\n",
        "even_numbers.sort()\n",
        "\n",
        "odd_numbers.sort(reverse=True)\n",
        "\n",
        "sorted_student_number = even_numbers + odd_numbers\n",
        "\n",
        "print(sorted_student_number)"
      ]
    }
  ],
  "metadata": {
    "colab": {
      "provenance": []
    },
    "kernelspec": {
      "display_name": "Python 3",
      "language": "python",
      "name": "python3"
    },
    "language_info": {
      "codemirror_mode": {
        "name": "ipython",
        "version": 3
      },
      "file_extension": ".py",
      "mimetype": "text/x-python",
      "name": "python",
      "nbconvert_exporter": "python",
      "pygments_lexer": "ipython3",
      "version": "3.9.13"
    }
  },
  "nbformat": 4,
  "nbformat_minor": 0
}